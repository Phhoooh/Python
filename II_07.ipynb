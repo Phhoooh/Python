{
 "cells": [
  {
   "cell_type": "markdown",
   "metadata": {},
   "source": [
    "# __II. 파이썬 프로그래밍의 기초, 자료형__\n",
    "---"
   ]
  },
  {
   "cell_type": "markdown",
   "metadata": {},
   "source": [
    "## __7. 자료형의 참과 거짓__\n",
    "* 문자열, 리스트, 튜플 딕셔너리 등의 값이 비어있으면 거짓이 된다\n",
    "* 숫자에서는 그 값이 0일때 거짓이 된다"
   ]
  },
  {
   "cell_type": "markdown",
   "metadata": {},
   "source": [
    "|구분   |    값 | 참과 거짓 |\n",
    "| :---: | :---: |   :---:  |\n",
    "| __문자열__ | 'python' | 참 |\n",
    "| <br> | '' | 거짓 |\n",
    "| __리스트__ | [1, 2, 3] | 참 |\n",
    "| <br> | [] | 거짓 |\n",
    "| __튜플__ | () | 거짓 |\n",
    "| __딕셔너리__ | {} | 거짓 |\n",
    "| __숫자형__ | 0이 아닌 숫자 | 참 |\n",
    "| <br> | 0 | 거짓 |\n",
    "| __None__ | None | 거짓 |"
   ]
  },
  {
   "cell_type": "markdown",
   "metadata": {},
   "source": [
    "* while문은 조건문이 참인 동안 조건문 안에 있는 문장을 반복해서 수행한다\n",
    "* 아래의 예를 부면 a가 참이경우에 a.pop()을 계속 실행하라는 의미이다\n",
    "* a.pop()은 리스트 a의 마지막 요소를 출력하는 함수이므로 a가 참인 동안(리스트 내에 요소가 존재하는한) <br>\n",
    "마지막 요소를 계속해서 끄집어 낼것이다\n",
    "* 더이상 끄집어 낼 것이 없으면 a가 빈 리스트([])가 되어 거짓이 된다\n",
    "* 따라서 while문에서 조건이 거짓이 되므로 중지된다"
   ]
  },
  {
   "cell_type": "code",
   "execution_count": 12,
   "metadata": {},
   "outputs": [
    {
     "name": "stdout",
     "output_type": "stream",
     "text": [
      "4\n",
      "3\n",
      "2\n",
      "1\n"
     ]
    }
   ],
   "source": [
    "a = [1, 2, 3, 4]\n",
    "\n",
    "while a :\n",
    "    print(a.pop())"
   ]
  },
  {
   "cell_type": "markdown",
   "metadata": {},
   "source": [
    "* 빈리스트는 거짓이므로 False가 출력된다"
   ]
  },
  {
   "cell_type": "code",
   "execution_count": 13,
   "metadata": {},
   "outputs": [
    {
     "name": "stdout",
     "output_type": "stream",
     "text": [
      "False\n"
     ]
    }
   ],
   "source": [
    "if [] :\n",
    "    print('True')\n",
    "else :\n",
    "    print('False')\n"
   ]
  },
  {
   "cell_type": "markdown",
   "metadata": {},
   "source": [
    "* 아래 코드를 해석하면,<br>\n",
    "\n",
    "`만약 [1, 2, 3]이 참이면 'True'라는 문자열을 출력하고, ` <br>\n",
    "`그렇지 않으면 'False'라는 문자열을 출력하라`"
   ]
  },
  {
   "cell_type": "code",
   "execution_count": 15,
   "metadata": {},
   "outputs": [
    {
     "name": "stdout",
     "output_type": "stream",
     "text": [
      "True\n"
     ]
    }
   ],
   "source": [
    "if [1, 2, 3] :\n",
    "    print('True')\n",
    "else :\n",
    "    print('False')\n"
   ]
  },
  {
   "cell_type": "code",
   "execution_count": null,
   "metadata": {},
   "outputs": [],
   "source": []
  }
 ],
 "metadata": {
  "kernelspec": {
   "display_name": "Python 3",
   "language": "python",
   "name": "python3"
  },
  "language_info": {
   "codemirror_mode": {
    "name": "ipython",
    "version": 3
   },
   "file_extension": ".py",
   "mimetype": "text/x-python",
   "name": "python",
   "nbconvert_exporter": "python",
   "pygments_lexer": "ipython3",
   "version": "3.7.3"
  }
 },
 "nbformat": 4,
 "nbformat_minor": 2
}
