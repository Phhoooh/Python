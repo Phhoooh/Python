{
 "cells": [
  {
   "cell_type": "markdown",
   "metadata": {},
   "source": [
    "# __II. 파이썬 프로그래밍의 기초, 자료형__\n",
    "---"
   ]
  },
  {
   "cell_type": "markdown",
   "metadata": {},
   "source": [
    "## __8. 자료형의 값을 저장하는 공간, 변수__\n",
    "* 우리는 이미 앞에서 변수들을 사용해왔다\n",
    "* 아래 예와 같은 a, b, c를 변수라고 한다\n",
    "* 변수를 만들 때, 아래 예처럼 =(assignmnet) 기호를 사용한다"
   ]
  },
  {
   "cell_type": "code",
   "execution_count": 7,
   "metadata": {},
   "outputs": [],
   "source": [
    "a = 1\n",
    "b = 'python'\n",
    "c = [1, 2, 3]"
   ]
  },
  {
   "cell_type": "markdown",
   "metadata": {},
   "source": [
    "### __1) 변수란?__\n",
    "* 파이썬에서 사용하는 변수는 객체를 가리키는 것이라고도 말할 수 있다\n",
    "* 객체란 우리가 지금껏 보아 왔던 자료형을 포함해 '파이썬에서 사용되는 모든것'을 뜻하는 말이다\n",
    "* 만약 아래의 코드처럼 a = 1이라고 하면 1이라는 값을 가지는 정수자료형(객체)이 자동으로 메모리에 생성된다\n",
    "* a는 변수의 이름이며, 1이라는 정수형 객체가 저장된 메모리 위치를 가리키게 된다\n",
    "* 즉, 변수 a는 객체가 저장된 메모리의 위치를 가리키는 레퍼런스(Reference)라고도 할 수 있다"
   ]
  },
  {
   "cell_type": "code",
   "execution_count": 9,
   "metadata": {},
   "outputs": [],
   "source": [
    "a = 1"
   ]
  },
  {
   "cell_type": "markdown",
   "metadata": {},
   "source": [
    "* a가 3을 가리키고 b도 3을 가리킨다\n",
    "* 즉, a = 3을 입력하는 순간 3이라는 정수형 개체가 생성되고 변수 a는 3이라는 객체의 메모리 주소를 가리킨다\n",
    "* 변수 b 또한 동일한 객체인 3을 가리킨다\n",
    "* 이제 3이라는 정수형 객체를 가리키는 변수가 2개가 됐다(어려운말로 레퍼런스 카운트(Reference Count, 참조개수)가 2개라고 표현한다)\n",
    "* 이 두 변수는 가리키고 있는 대상이 동일하다\n",
    "* 따라서 동일한 객체를 가리키고 있는지 아닌지에 대해서 판단하는 파이썬 내장함수인 is 함수를 실행했을때 참(True)을 리턴하게 된다"
   ]
  },
  {
   "cell_type": "code",
   "execution_count": 12,
   "metadata": {},
   "outputs": [
    {
     "data": {
      "text/plain": [
       "True"
      ]
     },
     "execution_count": 12,
     "metadata": {},
     "output_type": "execute_result"
    }
   ],
   "source": [
    "a = 3\n",
    "b = 3\n",
    "a is b"
   ]
  },
  {
   "cell_type": "markdown",
   "metadata": {},
   "source": [
    "### __2) a, b, c는 정말 같은 객체를 가리키는 걸까?__\n",
    "* 파이썬에서는 입력한 자료형에 대한 참조 개수를 알려주는 sys.getrefcount라는 함수가 있다\n",
    "* 이 함수를 사용해 3이라는 정수형 객체에 참조 개수가 몇 개 있는지 살펴보자"
   ]
  },
  {
   "cell_type": "code",
   "execution_count": 23,
   "metadata": {},
   "outputs": [
    {
     "data": {
      "text/plain": [
       "468"
      ]
     },
     "execution_count": 23,
     "metadata": {},
     "output_type": "execute_result"
    }
   ],
   "source": [
    "import sys\n",
    "sys.getrefcount(3)"
   ]
  },
  {
   "cell_type": "markdown",
   "metadata": {},
   "source": [
    "* sys.fetrefcount(3)을 수행했을 때 참조 개수가 449가 나오는 이유는 파이썬 내부적으로 3이라는 자료형을 이미 사용했기 때문이다"
   ]
  },
  {
   "cell_type": "markdown",
   "metadata": {},
   "source": [
    "* 이후 a = 3, b = 3, c = 3과 같이 3을 가리키는 변수를 늘리면 참조 개수가 증가하는 것을 볼 수 있다 "
   ]
  },
  {
   "cell_type": "code",
   "execution_count": 19,
   "metadata": {},
   "outputs": [
    {
     "data": {
      "text/plain": [
       "469"
      ]
     },
     "execution_count": 19,
     "metadata": {},
     "output_type": "execute_result"
    }
   ],
   "source": [
    "a = 3\n",
    "sys.getrefcount(3)"
   ]
  },
  {
   "cell_type": "code",
   "execution_count": 20,
   "metadata": {},
   "outputs": [
    {
     "data": {
      "text/plain": [
       "469"
      ]
     },
     "execution_count": 20,
     "metadata": {},
     "output_type": "execute_result"
    }
   ],
   "source": [
    "b = 3\n",
    "sys.getrefcount(3)"
   ]
  },
  {
   "cell_type": "code",
   "execution_count": 21,
   "metadata": {},
   "outputs": [
    {
     "data": {
      "text/plain": [
       "469"
      ]
     },
     "execution_count": 21,
     "metadata": {},
     "output_type": "execute_result"
    }
   ],
   "source": [
    "c = 3\n",
    "sys.getrefcount(3)"
   ]
  },
  {
   "cell_type": "markdown",
   "metadata": {},
   "source": [
    "### __3) 변수를 만드는 여러가지 방법__"
   ]
  },
  {
   "cell_type": "code",
   "execution_count": 49,
   "metadata": {},
   "outputs": [
    {
     "name": "stdout",
     "output_type": "stream",
     "text": [
      "python\n",
      "life\n",
      "python life\n"
     ]
    }
   ],
   "source": [
    "'''튜플로 a, b에 값을 대입'''\n",
    "\n",
    "a, b = ('python', 'life') # (a, b) = 'python', 'life' 와 같다\n",
    "print(a)\n",
    "print(b)\n",
    "print(a, b)"
   ]
  },
  {
   "cell_type": "code",
   "execution_count": 50,
   "metadata": {},
   "outputs": [
    {
     "name": "stdout",
     "output_type": "stream",
     "text": [
      "python\n",
      "life\n",
      "python life\n"
     ]
    }
   ],
   "source": [
    "'''리스트로 변수 생성'''\n",
    "\n",
    "[a, b] = ['python', 'life']\n",
    "print(a)\n",
    "print(b)\n",
    "print(a, b)"
   ]
  },
  {
   "cell_type": "code",
   "execution_count": 51,
   "metadata": {},
   "outputs": [
    {
     "name": "stdout",
     "output_type": "stream",
     "text": [
      "python\n",
      "python\n"
     ]
    }
   ],
   "source": [
    "'''여러 개의 변수에 같은 값을 대입'''\n",
    "\n",
    "a = b = 'python'\n",
    "print(a)\n",
    "print(b)"
   ]
  },
  {
   "cell_type": "code",
   "execution_count": 52,
   "metadata": {},
   "outputs": [
    {
     "name": "stdout",
     "output_type": "stream",
     "text": [
      "3 5\n",
      "5 3\n"
     ]
    }
   ],
   "source": [
    "'''두 변수의 값 바꾸기'''\n",
    "\n",
    "a = 3\n",
    "b = 5\n",
    "print(a, b)\n",
    "\n",
    "a, b = b, a\n",
    "print(a, b)"
   ]
  },
  {
   "cell_type": "markdown",
   "metadata": {},
   "source": [
    "### __4) 메모리에 생성된 변수 없애기__\n",
    "* 객체의 레퍼런스 카운트(Reference Count)가 0이 되는 순간 그 객체는 자동으로 사라진다\n",
    "* 어려운 말로 가비지 콜렉션(Garbage Collection, 쓰레기 수집)이라고도 한다"
   ]
  },
  {
   "cell_type": "code",
   "execution_count": 53,
   "metadata": {},
   "outputs": [],
   "source": [
    "a = 3\n",
    "b = 3\n",
    "del(a)\n",
    "del(b)"
   ]
  },
  {
   "cell_type": "markdown",
   "metadata": {},
   "source": [
    "### __5) 리스트를 변수에 넣고 복사__\n",
    "* a[1]의 값을 4로 바꾸면 a리스트만 바뀌는 것이 아니라 b 리스트도 똑같이 바뀐다\n",
    "* 그 이유는 a, b 모두 같은 리스트인 [1, 2, 3]을 가리키고 있기 때문이다\n",
    "* 즉, a, b는 이름만 다를 뿐, 완전히 동일한 리스트를 가리키고 있는 변수이다"
   ]
  },
  {
   "cell_type": "code",
   "execution_count": 54,
   "metadata": {},
   "outputs": [
    {
     "name": "stdout",
     "output_type": "stream",
     "text": [
      "[1, 4, 3]\n",
      "[1, 4, 3]\n"
     ]
    }
   ],
   "source": [
    "a = [1, 2, 3]\n",
    "b = a\n",
    "a[1] = 4\n",
    "print(a)\n",
    "print(b)"
   ]
  },
  {
   "cell_type": "markdown",
   "metadata": {},
   "source": [
    "* b 변수를 생성할 때 a와 같은 값을 가지도록 복사해 넣으면서 a가 가리키는 리스트와는 다른 리스트를 가리키게 하는 방법"
   ]
  },
  {
   "cell_type": "code",
   "execution_count": 55,
   "metadata": {},
   "outputs": [
    {
     "name": "stdout",
     "output_type": "stream",
     "text": [
      "[1, 4, 3]\n",
      "[1, 2, 3]\n"
     ]
    }
   ],
   "source": [
    "a = [1, 2, 3]\n",
    "b = a[:]\n",
    "a[1] = 4\n",
    "print(a)\n",
    "print(b)"
   ]
  },
  {
   "cell_type": "markdown",
   "metadata": {},
   "source": [
    "* copy 모듈 이용"
   ]
  },
  {
   "cell_type": "code",
   "execution_count": 56,
   "metadata": {},
   "outputs": [],
   "source": [
    "from copy import copy\n",
    "b = copy(a)"
   ]
  },
  {
   "cell_type": "code",
   "execution_count": 57,
   "metadata": {},
   "outputs": [
    {
     "data": {
      "text/plain": [
       "False"
      ]
     },
     "execution_count": 57,
     "metadata": {},
     "output_type": "execute_result"
    }
   ],
   "source": [
    "'''두 변수가 같은 값을 가지면서 다른객체를 제대로 생성했는지 확인'''\n",
    "b is a"
   ]
  }
 ],
 "metadata": {
  "kernelspec": {
   "display_name": "Python 3",
   "language": "python",
   "name": "python3"
  },
  "language_info": {
   "codemirror_mode": {
    "name": "ipython",
    "version": 3
   },
   "file_extension": ".py",
   "mimetype": "text/x-python",
   "name": "python",
   "nbconvert_exporter": "python",
   "pygments_lexer": "ipython3",
   "version": "3.7.3"
  }
 },
 "nbformat": 4,
 "nbformat_minor": 2
}
