{
 "cells": [
  {
   "cell_type": "markdown",
   "metadata": {},
   "source": [
    "# __III. 프로그램의 구조를 쌓는다! 제어문__\n",
    "---"
   ]
  },
  {
   "cell_type": "markdown",
   "metadata": {},
   "source": [
    "## __1. if문__\n",
    "* __'돈이 있으면 택시를 타고, 돈이 없으면 걸어간다.'__\n",
    "* 프로그래밍도 사람이 하는 것이므로 위의 문장처럼 주어진 조건을 판단한 후 그 상황에 맞게 처리해야 할 경우가 생긴다\n",
    "* 즉, 프로그래밍에서 조건을 판단하여 해당 조건에 맞는 상황을 수행하는 데 쓰이는 것이 바로 if문이다"
   ]
  },
  {
   "cell_type": "code",
   "execution_count": 1,
   "metadata": {},
   "outputs": [
    {
     "name": "stdout",
     "output_type": "stream",
     "text": [
      "택시를 타고 가라\n"
     ]
    }
   ],
   "source": [
    "'''위와 같은 상황을 파이썬에서는 다음과 같이 표현할 수 있다.'''\n",
    "\n",
    "money = 1\n",
    "if money :\n",
    "    print('택시를 타고 가라')\n",
    "else :\n",
    "    print('걸어가라')\n"
   ]
  },
  {
   "cell_type": "markdown",
   "metadata": {},
   "source": [
    "* 아래 그림은 '택시를 타고 가라'는 문장이 출력되는 과정을 보여준다"
   ]
  },
  {
   "cell_type": "markdown",
   "metadata": {},
   "source": [
    "<img src=\"./img/if_process.png\" width=\"400\">"
   ]
  },
  {
   "cell_type": "markdown",
   "metadata": {},
   "source": [
    "### __1) if문의 기본구조__"
   ]
  },
  {
   "cell_type": "markdown",
   "metadata": {},
   "source": [
    "<table align=\"center\" cellpadding=\"2\" cellspacing=\"0\" border=\"0\" class=\"txc-layout-tb\" width=\"897\" style=\"width: 897px;\"><tbody>\t\t\t\n",
    "<tr>\t\t\t<td valign=\"top\" style=\"width: 320px;\"><table width=\"320\" height=\"350\" cellpadding=\"5\" cellspacing=\"0\" border=\"0\" class=\"txc-layout-inner-table\" style=\"width: 320px;\"><tbody><tr><td valign=\"top\" style=\"width: 318px; height: 388px;\"><p style=\"text-align: center;\"><br></p><p style=\"text-align: center;\"><br></p><p style=\"text-align: center;\"><br></p><p style=\"text-align: center;\"><br></p><p style=\"text-align: center;\"><br></p><p style=\"text-align: center;\"><br></p><p style=\"text-align: center;\"><b><br></b></p><p style=\"text-align: left; margin-left: 10em;\"><span style=\"font-size: 11pt;\"><b>if 조건문:</b></span></p><p style=\"text-align: left; margin-left: 12em;\"><span style=\"font-size: 11pt;\"><b>수행할 문장1</b></span></p><p style=\"text-align: left; margin-left: 12em;\"><span style=\"font-size: 11pt;\"><b>수행할 문장2</b></span></p><p style=\"text-align: left; margin-left: 10em;\"><b><br></b></p><p style=\"text-align: left; margin-left: 10em;\"><span style=\"font-size: 11pt;\"><b>else:</b></span></p><p style=\"text-align: left; margin-left: 12em;\"><span style=\"font-size: 11pt;\"><b>수행할 문장A</b></span></p><p style=\"text-align: left; margin-left: 12em;\"><span style=\"font-size: 11pt;\"><b>수행할 문장B</b></span><br></p><p style=\"text-align: left; margin-left: 12em;\"><span style=\"font-size: 11pt;\"><br></span></p><p style=\"text-align: justify; margin-left: 12em;\"><span style=\"font-size: 11pt;\"><br></span></p><p style=\"text-align: justify; margin-left: 2em;\"><br></p><p style=\"text-align: justify; margin-left: 2em;\"></p></td></tr></tbody></table></td>\t\t\t<td valign=\"top\" style=\"width: 577px;\"><table width=\"562\" height=\"350\" cellpadding=\"5\" cellspacing=\"0\" border=\"0\" class=\"txc-layout-inner-table\" style=\"width: 562px;\"><tbody><tr><td valign=\"top\" style=\"width: 560px;\"><p style=\"text-align: center; clear: none; float: none;\"></p><p style=\"text-align: center; clear: none; float: none;\"><span class=\"imageblock\" style=\"display:inline-block;width:500px;width: 500px; height: 406px;;height:auto;max-width:100%\"><span data-url=\"https://t1.daumcdn.net/cfile/tistory/23992F335979339C22?download\" data-lightbox=\"lightbox\"><img srcset=\"https://img1.daumcdn.net/thumb/R1280x0/?scode=mtistory&amp;fname=http%3A%2F%2Fcfile21.uf.tistory.com%2Fimage%2F23992F335979339C228C6D\" src=\"https://t1.daumcdn.net/cfile/tistory/23992F335979339C22\" style=\"cursor: pointer;max-width:100%;height:auto\" width=\"500\" height=\"406\" filename=\"2.png\" filemime=\"image/png\"></span></span></p><p><br></p></td></tr></tbody></table></td>\t\t\t\n",
    "</tr>\t\t\t\n",
    "</tbody></table>"
   ]
  },
  {
   "cell_type": "markdown",
   "metadata": {},
   "source": [
    "* 조건문을 테스트해서 참이면 __<span style=\"color:green\">if</span>__문을 바로 다음의 문장(if 블록)들을 수행하고,<br>\n",
    "  조건문이 거짓이면 __<span style=\"color:green\">else</span>__문이 다음의 문장(else 블록)들을 수행하게 된다\n",
    "* 그러므로 __<span style=\"color:green\">else</span>__문은 __<span style=\"color:green\">if</span>__문 없이 독립적으로 사용할 수 없다"
   ]
  },
  {
   "cell_type": "markdown",
   "metadata": {},
   "source": [
    "#### __가. 들여쓰기__\n",
    "* __<span style=\"color:green\">if</span>__문을 만들 때는 \n",
    "```python\n",
    "if 조건문 : \n",
    "    바로 아래 문장부터 if문에 속하는 모든 문장에\n",
    "    들여쓰기(indentation)를 해주어야 한다\n",
    "```"
   ]
  },
  {
   "cell_type": "code",
   "execution_count": 2,
   "metadata": {},
   "outputs": [
    {
     "name": "stdout",
     "output_type": "stream",
     "text": [
      "택시를\n",
      "타고\n",
      "가자\n"
     ]
    }
   ],
   "source": [
    "money = 1\n",
    "if money :\n",
    "    print('택시를')\n",
    "    print('타고')\n",
    "    print('가자')"
   ]
  },
  {
   "cell_type": "markdown",
   "metadata": {},
   "source": [
    "* 이렇게 작성하면 오류가 발생한다\n",
    "\n",
    "```python\n",
    "if 조건문 :\n",
    "    수행할문장1\n",
    "수행할문장2    \n",
    "    수행할문장3\n",
    "```\n",
    "\n",
    "```python\n",
    "if 조건문 :\n",
    "    수행할문장1\n",
    "    수행할문장2    \n",
    "        수행할문장3\n",
    "```\n",
    "\n",
    "* 실제로 해보자"
   ]
  },
  {
   "cell_type": "code",
   "execution_count": 3,
   "metadata": {},
   "outputs": [
    {
     "ename": "IndentationError",
     "evalue": "unexpected indent (<ipython-input-3-19c85e490ee7>, line 5)",
     "output_type": "error",
     "traceback": [
      "\u001b[1;36m  File \u001b[1;32m\"<ipython-input-3-19c85e490ee7>\"\u001b[1;36m, line \u001b[1;32m5\u001b[0m\n\u001b[1;33m    print('가자')\u001b[0m\n\u001b[1;37m    ^\u001b[0m\n\u001b[1;31mIndentationError\u001b[0m\u001b[1;31m:\u001b[0m unexpected indent\n"
     ]
    }
   ],
   "source": [
    "money = 1\n",
    "if money :\n",
    "    print('택시를')\n",
    "print('타고')\n",
    "    print('가자')"
   ]
  },
  {
   "cell_type": "code",
   "execution_count": 4,
   "metadata": {},
   "outputs": [
    {
     "ename": "IndentationError",
     "evalue": "unexpected indent (<ipython-input-4-a9374a265acd>, line 5)",
     "output_type": "error",
     "traceback": [
      "\u001b[1;36m  File \u001b[1;32m\"<ipython-input-4-a9374a265acd>\"\u001b[1;36m, line \u001b[1;32m5\u001b[0m\n\u001b[1;33m    print('가자')\u001b[0m\n\u001b[1;37m    ^\u001b[0m\n\u001b[1;31mIndentationError\u001b[0m\u001b[1;31m:\u001b[0m unexpected indent\n"
     ]
    }
   ],
   "source": [
    "money = 1\n",
    "if money :\n",
    "    print('택시를')\n",
    "    print('타고')\n",
    "        print('가자')"
   ]
  },
  {
   "cell_type": "markdown",
   "metadata": {},
   "source": [
    "* 그렇다면 들여쓰기는 __공백[SpaceBar]__으로 하는것이 좋을까? 아니면 __탭[Tab]__으로 하는 것이 좋을까?\n",
    "* 이에 대한 논란은 아직도 계속되고 있다\n",
    "* 두개의 의견 모두가 동의하는 내용은 단하나, 2가지를 혼용해서 쓰지 말자는 것이다\n",
    "* 요즘 파이썬 커뮤니티에서는 들여쓰기를 할 때 __공백[SpaceBar]__ 4개를 사용하는 것을 권장 한다"
   ]
  },
  {
   "cell_type": "markdown",
   "metadata": {},
   "source": [
    "### __2) 조건문이란 무엇인가?__\n",
    "* if조건문에서 '조건문'이란 참과 거짓을 판단하는 문장을 말한다\n",
    "* 자료형의 참과 거짓에 대해서 몇 가지만 다시 살펴보면 다음과 같은 것들이 있다"
   ]
  },
  {
   "cell_type": "markdown",
   "metadata": {},
   "source": [
    "| 자료형 |  참  |  거짓  |\n",
    "|  :-:  |  :-:  |  :-:  |\n",
    "| __숫자__ | 0이 아닌 숫자 | 0 |\n",
    "| __문자열__ | 'abc' | \"\" |\n",
    "| __리스트__ | [1, 2, 3] | [] |\n",
    "| __튜플__ | (1, 2, 3) | () |\n",
    "| __딕셔너리__ | {'a' : 'b'} | {} |"
   ]
  },
  {
   "cell_type": "markdown",
   "metadata": {},
   "source": [
    "* 따라서 이전에 살펴보았던 택시 예제에서 조건문은 money가 된다\n",
    "\n",
    "```python\n",
    "money = 1\n",
    "if money :\n",
    "```\n",
    "\n",
    "* money는 1이기 때문에 참이 되어 __<span style=\"color:green\">if</span>__문 다음의 문장을 수행하게 된다"
   ]
  },
  {
   "cell_type": "markdown",
   "metadata": {},
   "source": [
    "#### __가. 비교연산자__\n",
    "* 조건이 참인지 거짓인지 판단할 때 자료형보다는 비교연산자를 쓰는 경우가 훨씬 많다"
   ]
  },
  {
   "cell_type": "markdown",
   "metadata": {},
   "source": [
    "| 비교연산자 |  설명  |\n",
    "|  :-:  |  :-:   |\n",
    "| __$ x < y $__ | $ x $가 $ y $ 보다 작다 |\n",
    "| __$ x > y $__  | $ x $가 $ y $ 보다 크다 |\n",
    "| __$ x == y $__ | $ x $와 $ y $ 가 같다|\n",
    "| __$ x !=  y $__ | $ x $와 $ y $ 가 같지 않다 |\n",
    "| __$ x >= y $__ | $ x $가 $ y $ 보다 크거나 같다 |\n",
    "| __$ x <= y $__ | $ x $가 $ y $ 보다 작거나 같다 |"
   ]
  },
  {
   "cell_type": "code",
   "execution_count": 5,
   "metadata": {},
   "outputs": [
    {
     "name": "stdout",
     "output_type": "stream",
     "text": [
      "True\n",
      "False\n",
      "False\n",
      "True\n"
     ]
    }
   ],
   "source": [
    "x = 3\n",
    "y = 2\n",
    "\n",
    "print(x > y)\n",
    "print(x < y)\n",
    "print(x == y)\n",
    "print(x != y)"
   ]
  },
  {
   "cell_type": "code",
   "execution_count": 6,
   "metadata": {},
   "outputs": [
    {
     "name": "stdout",
     "output_type": "stream",
     "text": [
      "걸어가라\n"
     ]
    }
   ],
   "source": [
    "'''만약 3000원 이상의 돈을 가지고 있으면 택시를 타고 그렇지 않으면 걸어 가라'''\n",
    "\n",
    "money = 2000\n",
    "if money >= 3000 :\n",
    "    print('택시를 타고 가라')\n",
    "else : \n",
    "    print('걸어가라')\n",
    "\n",
    "# money >= 3000이라는 조건문이 거짓이 되기 때문에 else문 다음 문장을 수행하게 된다"
   ]
  },
  {
   "cell_type": "markdown",
   "metadata": {},
   "source": [
    "#### __나. and, or, not__\n",
    "* 조건을 판단하기 위해 사용하는 다른 연산자로는 and, or, not이 있다."
   ]
  },
  {
   "cell_type": "markdown",
   "metadata": {},
   "source": [
    "| 연산자 |  설명  |\n",
    "|  :-:  |  :-:   |\n",
    "| __x or y__ | x와 y 둘 중에 하나만 참이면 참이다 |\n",
    "| __x and y__  | x와 y 모두 참이어야 참이다 |\n",
    "| __not x__ | x가 거짓이면 참이다 |"
   ]
  },
  {
   "cell_type": "code",
   "execution_count": 7,
   "metadata": {},
   "outputs": [
    {
     "name": "stdout",
     "output_type": "stream",
     "text": [
      "택시를 타라\n"
     ]
    }
   ],
   "source": [
    "'''돈이 3000원 이상 있거나 카드가 있다면 택시를 타고 그렇지 않으면 걸어가라'''\n",
    "money = 2000\n",
    "card = 1\n",
    "\n",
    "if money >= 3000 or card :\n",
    "    print('택시를 타라')\n",
    "else :\n",
    "    print('걸어가라')\n",
    "    \n",
    "# money는 2000이지만 card가 1이기 때문에 money >= 3000 or card라는 조건문이 참이 된다\n",
    "# 따라서 if문 다음의 '택시를 타라'라는 문장이 수행된다"
   ]
  },
  {
   "cell_type": "markdown",
   "metadata": {},
   "source": [
    "#### __다. 다른 언어에서 볼수 없는 조건문__\n",
    "* 더 나아가 파이썬은 다른 프로그래밍 언어에서 쉽게 볼 수 없는 재미있는 조건문들을 제공한다"
   ]
  },
  {
   "cell_type": "markdown",
   "metadata": {},
   "source": [
    "<table cellspacing=\"5\" cellpadding=\"0\" border=\"0\" align=\"center\"><tbody><tr><td><span class=\"imageblock\" style=\"display:inline-block;width:450px;;height:auto;max-width:100%\"><span data-url=\"https://t1.daumcdn.net/cfile/tistory/279311335978524416?download\" data-lightbox=\"lightbox\"><img srcset=\"https://img1.daumcdn.net/thumb/R1280x0/?scode=mtistory&amp;fname=http%3A%2F%2Fcfile5.uf.tistory.com%2Fimage%2F279311335978524416CA46\" src=\"https://t1.daumcdn.net/cfile/tistory/279311335978524416\" style=\"cursor: pointer;max-width:100%;height:auto\" width=\"450\" height=\"128\" filename=\"1.png\" filemime=\"image/png\" original=\"yes\"></span></span></td><td><span class=\"imageblock\" style=\"display:inline-block;width:450px;;height:auto;max-width:100%\"><span data-url=\"https://t1.daumcdn.net/cfile/tistory/215808335978524435?download\" data-lightbox=\"lightbox\"><img srcset=\"https://img1.daumcdn.net/thumb/R1280x0/?scode=mtistory&amp;fname=http%3A%2F%2Fcfile3.uf.tistory.com%2Fimage%2F215808335978524435E968\" src=\"https://t1.daumcdn.net/cfile/tistory/215808335978524435\" style=\"cursor: pointer;max-width:100%;height:auto\" width=\"450\" height=\"128\" filename=\"2.png\" filemime=\"image/png\" original=\"yes\"></span></span></td></tr></tbody></table>"
   ]
  },
  {
   "cell_type": "code",
   "execution_count": 8,
   "metadata": {},
   "outputs": [
    {
     "name": "stdout",
     "output_type": "stream",
     "text": [
      "True\n",
      "False\n"
     ]
    }
   ],
   "source": [
    "print(1 in [1, 2, 3])\n",
    "print(1 not in [1, 2, 3])"
   ]
  },
  {
   "cell_type": "markdown",
   "metadata": {},
   "source": [
    "* 첫번째 예는 '[1, 2, 3]이라는 리스트 안에 1이 있는가?'라는 조건문이다<br>\n",
    "1은 [1, 2, 3] 안에 있으므로 참이 되어 True를 리턴한다\n",
    "* 두번째 예는 '[1, 2, 3]이라는 리스트 안에 1이 없는가'라는 조건문이다<br>\n",
    "1은 [1, 2, 3] 안에 있으므로 거짓이 되어 False를 리턴한다"
   ]
  },
  {
   "cell_type": "code",
   "execution_count": 9,
   "metadata": {},
   "outputs": [
    {
     "name": "stdout",
     "output_type": "stream",
     "text": [
      "택시를 타라\n"
     ]
    }
   ],
   "source": [
    "'''만약 주머니에 돈이 있으면 택시를 타고, 없으면 걸어 가라'''\n",
    "pocket = ['paper', 'cellphone', 'money']\n",
    "\n",
    "if 'money' in pocket :\n",
    "    print('택시를 타라')\n",
    "else :\n",
    "    print('걸어가라')"
   ]
  },
  {
   "cell_type": "code",
   "execution_count": null,
   "metadata": {},
   "outputs": [],
   "source": [
    "'''조건문에서 아무 일도 하지 않게 설정하고 싶다면?'''\n",
    "\n",
    "\n",
    "'''주머니에 돈이 있으면 가만히 있고 주머니에 돈이 없으면 카드를 꺼내라'''\n",
    "\n",
    "pocket = ['paper', 'cellphone', 'money']\n",
    "\n",
    "if 'money' in pocket :\n",
    "    pass\n",
    "else :\n",
    "    print('카드를 꺼내라')\n",
    "    \n",
    "# pocket이라는 리스트 안에 money라는 문자열이 있기 때문에 \n",
    "# if문 다음 문장인 pass가 수행되고 아무런 결과값도 보여 주지 않는다"
   ]
  },
  {
   "cell_type": "code",
   "execution_count": null,
   "metadata": {},
   "outputs": [],
   "source": [
    "if 'money' in pocket : pass\n",
    "else : print('카드를 꺼내라')"
   ]
  },
  {
   "cell_type": "markdown",
   "metadata": {},
   "source": [
    "<div id=\"content10_0\" class=\"moreless_content\" style=\"display: block;\"><p style=\"margin-left: 2em; text-align: left; clear: none; float: none;\"><span style=\"font-size: 11pt;\">만약 조건문에서</span><span style=\"font-size: 11pt;\">&nbsp;아무런 일도하지 않도록 설정하고 싶다면 수행할 문장을 쓰는 곳에 pass 를 써주면 된다!</span><br></p><p style=\"margin-left: 2em; text-align: left; clear: none; float: none;\"><span style=\"font-size: 11pt;\">if문이나 else문 뒤에 즉 조건문 뒤에 수행할 문장이 한 줄밖에 되지 않는다면 줄바꿈을 하지 않고 바로 옆에 적어도 된다.</span></p></div>"
   ]
  },
  {
   "cell_type": "markdown",
   "metadata": {},
   "source": [
    "#### __라. 다양한 조건을 판단하는 elif__\n",
    "* if와 else 만으로는 다양한 조건을 판단하기 어렵다"
   ]
  },
  {
   "cell_type": "markdown",
   "metadata": {},
   "source": [
    "<p style=\"margin-left: 4em; text-align: center; clear: none; float: none;\"><span class=\"imageblock\" style=\"display:inline-block;width:900px;;height:auto;max-width:100%\"><span data-url=\"https://t1.daumcdn.net/cfile/tistory/213D9B335979339C26?download\" data-lightbox=\"lightbox\"><img srcset=\"https://img1.daumcdn.net/thumb/R1280x0/?scode=mtistory&amp;fname=http%3A%2F%2Fcfile6.uf.tistory.com%2Fimage%2F213D9B335979339C268ED6\" src=\"https://t1.daumcdn.net/cfile/tistory/213D9B335979339C26\" style=\"cursor: pointer;max-width:100%;height:auto\" width=\"900\" height=\"566\" filename=\"1.png\" filemime=\"image/png\"></span></span></p>"
   ]
  },
  {
   "cell_type": "code",
   "execution_count": 11,
   "metadata": {},
   "outputs": [
    {
     "name": "stdout",
     "output_type": "stream",
     "text": [
      "택시를 타고\n"
     ]
    }
   ],
   "source": [
    "'''주머니에 돈이 있으면 택시를 타고, 주머니에 돈은 없지만 카드가 있으면 택시를 타고, 돈도없고 카드도 없으면 걸어가라'''\n",
    "pocket = ['paper', 'cellphone']\n",
    "card = 1\n",
    "\n",
    "if 'money' in pocket :\n",
    "    print('택시를 타라')\n",
    "else :\n",
    "    if card :\n",
    "        print('택시를 타고')\n",
    "    else : \n",
    "        print('걸어가라')"
   ]
  },
  {
   "cell_type": "code",
   "execution_count": 12,
   "metadata": {},
   "outputs": [
    {
     "name": "stdout",
     "output_type": "stream",
     "text": [
      "택시를 타고\n"
     ]
    }
   ],
   "source": [
    "'''elif 사용'''\n",
    "pocket = ['paper', 'cellphone']\n",
    "card = 1\n",
    "\n",
    "if 'money' in pocket :     # 주머니에 돈이 있으면\n",
    "    print('택시를 타라')\n",
    "elif card :                # 주머니에 돈이 없고 카드가 있으면\n",
    "    print('택시를 타고')\n",
    "else :                     # 주머니에 돈도 없고 카드도 없으면\n",
    "    print('걸어가라')"
   ]
  }
 ],
 "metadata": {
  "kernelspec": {
   "display_name": "Python 3",
   "language": "python",
   "name": "python3"
  },
  "language_info": {
   "codemirror_mode": {
    "name": "ipython",
    "version": 3
   },
   "file_extension": ".py",
   "mimetype": "text/x-python",
   "name": "python",
   "nbconvert_exporter": "python",
   "pygments_lexer": "ipython3",
   "version": "3.7.3"
  }
 },
 "nbformat": 4,
 "nbformat_minor": 2
}
